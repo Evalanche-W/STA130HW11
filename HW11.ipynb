{
 "cells": [
  {
   "cell_type": "markdown",
   "id": "ddefddba",
   "metadata": {},
   "source": [
    "https://chatgpt.com/share/673febea-cb28-8003-a122-2a5338397e5f"
   ]
  },
  {
   "cell_type": "code",
   "execution_count": null,
   "id": "e40144a4",
   "metadata": {},
   "outputs": [],
   "source": []
  }
 ],
 "metadata": {
  "kernelspec": {
   "display_name": "Python 3 (ipykernel)",
   "language": "python",
   "name": "python3"
  },
  "language_info": {
   "codemirror_mode": {
    "name": "ipython",
    "version": 3
   },
   "file_extension": ".py",
   "mimetype": "text/x-python",
   "name": "python",
   "nbconvert_exporter": "python",
   "pygments_lexer": "ipython3",
   "version": "3.11.6"
  }
 },
 "nbformat": 4,
 "nbformat_minor": 5
}
